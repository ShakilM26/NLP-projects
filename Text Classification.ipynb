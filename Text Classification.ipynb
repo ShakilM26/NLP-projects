{
 "cells": [
  {
   "cell_type": "code",
   "execution_count": 6,
   "id": "f276edaf",
   "metadata": {},
   "outputs": [],
   "source": [
    "import pandas as pd\n",
    "from sklearn.model_selection import train_test_split\n",
    "from sklearn.feature_extraction.text import TfidfVectorizer\n",
    "from sklearn.ensemble import RandomForestClassifier\n",
    "from sklearn.naive_bayes import MultinomialNB\n",
    "from sklearn.svm import SVC\n",
    "from sklearn.tree import DecisionTreeClassifier\n",
    "from sklearn.neural_network import MLPClassifier\n",
    "from sklearn.metrics import classification_report\n",
    "from sklearn.model_selection import cross_val_score"
   ]
  },
  {
   "cell_type": "code",
   "execution_count": 7,
   "id": "0ca009a0",
   "metadata": {},
   "outputs": [
    {
     "data": {
      "text/html": [
       "<div>\n",
       "<style scoped>\n",
       "    .dataframe tbody tr th:only-of-type {\n",
       "        vertical-align: middle;\n",
       "    }\n",
       "\n",
       "    .dataframe tbody tr th {\n",
       "        vertical-align: top;\n",
       "    }\n",
       "\n",
       "    .dataframe thead th {\n",
       "        text-align: right;\n",
       "    }\n",
       "</style>\n",
       "<table border=\"1\" class=\"dataframe\">\n",
       "  <thead>\n",
       "    <tr style=\"text-align: right;\">\n",
       "      <th></th>\n",
       "      <th>Scenario</th>\n",
       "      <th>Requirement</th>\n",
       "      <th>Requirement Type</th>\n",
       "      <th>Author</th>\n",
       "    </tr>\n",
       "  </thead>\n",
       "  <tbody>\n",
       "    <tr>\n",
       "      <th>0</th>\n",
       "      <td>The Internet of Objects (IoT) Based Applicatio...</td>\n",
       "      <td>Collection and analysis of environmental data ...</td>\n",
       "      <td>Functional</td>\n",
       "      <td>Human</td>\n",
       "    </tr>\n",
       "    <tr>\n",
       "      <th>1</th>\n",
       "      <td>The Internet of Objects (IoT) Based Applicatio...</td>\n",
       "      <td>Monitoring, analyzing traffic flow and providi...</td>\n",
       "      <td>Functional</td>\n",
       "      <td>Human</td>\n",
       "    </tr>\n",
       "    <tr>\n",
       "      <th>2</th>\n",
       "      <td>The Internet of Objects (IoT) Based Applicatio...</td>\n",
       "      <td>In case of emergency, sending instant notifica...</td>\n",
       "      <td>Functional</td>\n",
       "      <td>Human</td>\n",
       "    </tr>\n",
       "    <tr>\n",
       "      <th>3</th>\n",
       "      <td>The Internet of Objects (IoT) Based Applicatio...</td>\n",
       "      <td>For parking space management, identifying empt...</td>\n",
       "      <td>Functional</td>\n",
       "      <td>Human</td>\n",
       "    </tr>\n",
       "    <tr>\n",
       "      <th>4</th>\n",
       "      <td>The Internet of Objects (IoT) Based Applicatio...</td>\n",
       "      <td>Automatically adjusting lighting and electrica...</td>\n",
       "      <td>Functional</td>\n",
       "      <td>Human</td>\n",
       "    </tr>\n",
       "  </tbody>\n",
       "</table>\n",
       "</div>"
      ],
      "text/plain": [
       "                                            Scenario  \\\n",
       "0  The Internet of Objects (IoT) Based Applicatio...   \n",
       "1  The Internet of Objects (IoT) Based Applicatio...   \n",
       "2  The Internet of Objects (IoT) Based Applicatio...   \n",
       "3  The Internet of Objects (IoT) Based Applicatio...   \n",
       "4  The Internet of Objects (IoT) Based Applicatio...   \n",
       "\n",
       "                                         Requirement Requirement Type Author  \n",
       "0  Collection and analysis of environmental data ...       Functional  Human  \n",
       "1  Monitoring, analyzing traffic flow and providi...       Functional  Human  \n",
       "2  In case of emergency, sending instant notifica...       Functional  Human  \n",
       "3  For parking space management, identifying empt...       Functional  Human  \n",
       "4  Automatically adjusting lighting and electrica...       Functional  Human  "
      ]
     },
     "execution_count": 7,
     "metadata": {},
     "output_type": "execute_result"
    }
   ],
   "source": [
    "df = pd.read_csv(r'C:/Users/Shakil/Downloads/Compressed/text_classification.csv')\n",
    "df.head()"
   ]
  },
  {
   "cell_type": "code",
   "execution_count": 8,
   "id": "380fe7ce",
   "metadata": {},
   "outputs": [
    {
     "data": {
      "text/plain": [
       "Scenario            0\n",
       "Requirement         0\n",
       "Requirement Type    0\n",
       "Author              0\n",
       "dtype: int64"
      ]
     },
     "execution_count": 8,
     "metadata": {},
     "output_type": "execute_result"
    }
   ],
   "source": [
    "df.isnull().sum()"
   ]
  },
  {
   "cell_type": "markdown",
   "id": "5ad91d8b",
   "metadata": {},
   "source": [
    "#### Feature, Target and split the data"
   ]
  },
  {
   "cell_type": "code",
   "execution_count": 9,
   "id": "51d86256",
   "metadata": {},
   "outputs": [],
   "source": [
    "# Feature & Target \n",
    "x = df['Requirement']\n",
    "y = df['Author']\n",
    "\n",
    "# split the data\n",
    "xtrain, xtest, ytrain, ytest = train_test_split(x,y, test_size=0.2, random_state=42)"
   ]
  },
  {
   "cell_type": "markdown",
   "id": "2abbdb07",
   "metadata": {},
   "source": [
    "### classification "
   ]
  },
  {
   "cell_type": "code",
   "execution_count": 10,
   "id": "9ae7edf0",
   "metadata": {},
   "outputs": [],
   "source": [
    "# ml models for classification\n",
    "models = {'Random Forest': RandomForestClassifier(),\n",
    "         'Naive Bayes': MultinomialNB(),\n",
    "         'SVM': SVC(),\n",
    "         'Decision Tree': DecisionTreeClassifier(),\n",
    "         'MLP': MLPClassifier()}\n",
    "\n",
    "# TF-IDF vectorizer is used to transform text data into numerical features, considering both unigrams and bigrams.\n",
    "# Vectorize the text data\n",
    "tfidf_vec = TfidfVectorizer(ngram_range=(1,2)) \n",
    "xtrain_tfidf = tfidf_vec.fit_transform(xtrain)\n",
    "xtest_tfidf = tfidf_vec.transform(xtest)"
   ]
  },
  {
   "cell_type": "code",
   "execution_count": null,
   "id": "f6c3b481",
   "metadata": {},
   "outputs": [],
   "source": []
  },
  {
   "cell_type": "code",
   "execution_count": 11,
   "id": "084ac75b",
   "metadata": {},
   "outputs": [
    {
     "name": "stdout",
     "output_type": "stream",
     "text": [
      "Classification Report for Random Forest:\n",
      "              precision    recall  f1-score   support\n",
      "\n",
      "     ChatGpt       1.00      0.83      0.91        36\n",
      "       Human       0.88      1.00      0.94        44\n",
      "\n",
      "    accuracy                           0.93        80\n",
      "   macro avg       0.94      0.92      0.92        80\n",
      "weighted avg       0.93      0.93      0.92        80\n",
      "\n",
      "Classification Report for Naive Bayes:\n",
      "              precision    recall  f1-score   support\n",
      "\n",
      "     ChatGpt       0.79      0.94      0.86        36\n",
      "       Human       0.95      0.80      0.86        44\n",
      "\n",
      "    accuracy                           0.86        80\n",
      "   macro avg       0.87      0.87      0.86        80\n",
      "weighted avg       0.88      0.86      0.86        80\n",
      "\n",
      "Classification Report for SVM:\n",
      "              precision    recall  f1-score   support\n",
      "\n",
      "     ChatGpt       0.94      0.86      0.90        36\n",
      "       Human       0.89      0.95      0.92        44\n",
      "\n",
      "    accuracy                           0.91        80\n",
      "   macro avg       0.92      0.91      0.91        80\n",
      "weighted avg       0.91      0.91      0.91        80\n",
      "\n",
      "Classification Report for Decision Tree:\n",
      "              precision    recall  f1-score   support\n",
      "\n",
      "     ChatGpt       1.00      0.94      0.97        36\n",
      "       Human       0.96      1.00      0.98        44\n",
      "\n",
      "    accuracy                           0.97        80\n",
      "   macro avg       0.98      0.97      0.97        80\n",
      "weighted avg       0.98      0.97      0.97        80\n",
      "\n",
      "Classification Report for MLP:\n",
      "              precision    recall  f1-score   support\n",
      "\n",
      "     ChatGpt       0.89      0.92      0.90        36\n",
      "       Human       0.93      0.91      0.92        44\n",
      "\n",
      "    accuracy                           0.91        80\n",
      "   macro avg       0.91      0.91      0.91        80\n",
      "weighted avg       0.91      0.91      0.91        80\n",
      "\n"
     ]
    }
   ],
   "source": [
    "# train and evaluate models\n",
    "\n",
    "for model_name, model in models.items():\n",
    "  model.fit(xtrain_tfidf, ytrain) # train\n",
    "  ypred = model.predict(xtest_tfidf) # predict on the test data\n",
    "  print(f\"Classification Report for {model_name}:\")\n",
    "  print(classification_report(ytest, ypred))\n",
    "\n",
    "# Loop iterates through each model, \n",
    "# trains it on TFIDF features, \n",
    "# makes predictions, and prints classification report."
   ]
  },
  {
   "cell_type": "markdown",
   "id": "3c28b541",
   "metadata": {},
   "source": [
    "### Test the models"
   ]
  },
  {
   "cell_type": "code",
   "execution_count": 12,
   "id": "be2c97c5",
   "metadata": {},
   "outputs": [
    {
     "name": "stdout",
     "output_type": "stream",
     "text": [
      "Predictions for Random Forest:\n",
      "Text: We loved with a love that was more than love. - Edgar Allan Poe\n",
      "Predicted Author: Human\n",
      "Text: The heart was made to be broken. - Oscar Wilde\n",
      "Predicted Author: Human\n",
      "============================================================\n",
      "Predictions for Naive Bayes:\n",
      "Text: We loved with a love that was more than love. - Edgar Allan Poe\n",
      "Predicted Author: Human\n",
      "Text: The heart was made to be broken. - Oscar Wilde\n",
      "Predicted Author: ChatGpt\n",
      "============================================================\n",
      "Predictions for SVM:\n",
      "Text: We loved with a love that was more than love. - Edgar Allan Poe\n",
      "Predicted Author: Human\n",
      "Text: The heart was made to be broken. - Oscar Wilde\n",
      "Predicted Author: ChatGpt\n",
      "============================================================\n",
      "Predictions for Decision Tree:\n",
      "Text: We loved with a love that was more than love. - Edgar Allan Poe\n",
      "Predicted Author: Human\n",
      "Text: The heart was made to be broken. - Oscar Wilde\n",
      "Predicted Author: Human\n",
      "============================================================\n",
      "Predictions for MLP:\n",
      "Text: We loved with a love that was more than love. - Edgar Allan Poe\n",
      "Predicted Author: Human\n",
      "Text: The heart was made to be broken. - Oscar Wilde\n",
      "Predicted Author: ChatGpt\n",
      "============================================================\n"
     ]
    }
   ],
   "source": [
    "sample_text = [\"We loved with a love that was more than love. - Edgar Allan Poe\",\n",
    "                \"The heart was made to be broken. - Oscar Wilde\"]\n",
    "\n",
    "# Vectorize the sample texts\n",
    "test_examples_tfidf = tfidf_vec.transform(sample_text)\n",
    "\n",
    "# Predict and print results for each example using each model\n",
    "for model_name, model in models.items():\n",
    "    print(f\"Predictions for {model_name}:\")\n",
    "    predictions = model.predict(test_examples_tfidf)\n",
    "    for text, prediction in zip(sample_text, predictions):\n",
    "        print(f\"Text: {text}\")\n",
    "        print(f\"Predicted Author: {prediction}\")\n",
    "    print(\"=\"*60)"
   ]
  },
  {
   "cell_type": "code",
   "execution_count": null,
   "id": "3cc08c42",
   "metadata": {},
   "outputs": [],
   "source": []
  }
 ],
 "metadata": {
  "kernelspec": {
   "display_name": "Python 3 (ipykernel)",
   "language": "python",
   "name": "python3"
  },
  "language_info": {
   "codemirror_mode": {
    "name": "ipython",
    "version": 3
   },
   "file_extension": ".py",
   "mimetype": "text/x-python",
   "name": "python",
   "nbconvert_exporter": "python",
   "pygments_lexer": "ipython3",
   "version": "3.10.9"
  }
 },
 "nbformat": 4,
 "nbformat_minor": 5
}
