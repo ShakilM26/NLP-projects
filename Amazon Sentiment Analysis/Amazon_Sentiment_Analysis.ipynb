{
 "cells": [
  {
   "cell_type": "code",
   "execution_count": 1,
   "id": "96a96522",
   "metadata": {},
   "outputs": [],
   "source": [
    "import pandas as pd\n",
    "import re\n",
    "from nltk.tokenize import word_tokenize\n",
    "from nltk.corpus import stopwords\n",
    "stop_words = set(stopwords.words('english'))\n",
    "import seaborn as sns\n",
    "import matplotlib.pyplot as plt"
   ]
  },
  {
   "cell_type": "code",
   "execution_count": 2,
   "id": "95c1fafe",
   "metadata": {},
   "outputs": [
    {
     "data": {
      "text/html": [
       "<div>\n",
       "<style scoped>\n",
       "    .dataframe tbody tr th:only-of-type {\n",
       "        vertical-align: middle;\n",
       "    }\n",
       "\n",
       "    .dataframe tbody tr th {\n",
       "        vertical-align: top;\n",
       "    }\n",
       "\n",
       "    .dataframe thead th {\n",
       "        text-align: right;\n",
       "    }\n",
       "</style>\n",
       "<table border=\"1\" class=\"dataframe\">\n",
       "  <thead>\n",
       "    <tr style=\"text-align: right;\">\n",
       "      <th></th>\n",
       "      <th>rating</th>\n",
       "      <th>date</th>\n",
       "      <th>variation</th>\n",
       "      <th>verified_reviews</th>\n",
       "      <th>feedback</th>\n",
       "    </tr>\n",
       "  </thead>\n",
       "  <tbody>\n",
       "    <tr>\n",
       "      <th>0</th>\n",
       "      <td>5</td>\n",
       "      <td>31-Jul-18</td>\n",
       "      <td>Charcoal Fabric</td>\n",
       "      <td>Love my Echo!</td>\n",
       "      <td>1</td>\n",
       "    </tr>\n",
       "    <tr>\n",
       "      <th>1</th>\n",
       "      <td>5</td>\n",
       "      <td>31-Jul-18</td>\n",
       "      <td>Charcoal Fabric</td>\n",
       "      <td>Loved it!</td>\n",
       "      <td>1</td>\n",
       "    </tr>\n",
       "    <tr>\n",
       "      <th>2</th>\n",
       "      <td>4</td>\n",
       "      <td>31-Jul-18</td>\n",
       "      <td>Walnut Finish</td>\n",
       "      <td>Sometimes while playing a game, you can answer...</td>\n",
       "      <td>1</td>\n",
       "    </tr>\n",
       "    <tr>\n",
       "      <th>3</th>\n",
       "      <td>5</td>\n",
       "      <td>31-Jul-18</td>\n",
       "      <td>Charcoal Fabric</td>\n",
       "      <td>I have had a lot of fun with this thing. My 4 ...</td>\n",
       "      <td>1</td>\n",
       "    </tr>\n",
       "    <tr>\n",
       "      <th>4</th>\n",
       "      <td>5</td>\n",
       "      <td>31-Jul-18</td>\n",
       "      <td>Charcoal Fabric</td>\n",
       "      <td>Music</td>\n",
       "      <td>1</td>\n",
       "    </tr>\n",
       "  </tbody>\n",
       "</table>\n",
       "</div>"
      ],
      "text/plain": [
       "   rating       date         variation  \\\n",
       "0       5  31-Jul-18  Charcoal Fabric    \n",
       "1       5  31-Jul-18  Charcoal Fabric    \n",
       "2       4  31-Jul-18    Walnut Finish    \n",
       "3       5  31-Jul-18  Charcoal Fabric    \n",
       "4       5  31-Jul-18  Charcoal Fabric    \n",
       "\n",
       "                                    verified_reviews  feedback  \n",
       "0                                      Love my Echo!         1  \n",
       "1                                          Loved it!         1  \n",
       "2  Sometimes while playing a game, you can answer...         1  \n",
       "3  I have had a lot of fun with this thing. My 4 ...         1  \n",
       "4                                              Music         1  "
      ]
     },
     "execution_count": 2,
     "metadata": {},
     "output_type": "execute_result"
    }
   ],
   "source": [
    "df = pd.read_csv('C:/Users/Shakil/Downloads/Compressed/amazon_reviews.csv')\n",
    "df.head()"
   ]
  },
  {
   "cell_type": "markdown",
   "id": "144e4215",
   "metadata": {},
   "source": [
    "### Data preprocessing"
   ]
  },
  {
   "cell_type": "code",
   "execution_count": 3,
   "id": "bd12718a",
   "metadata": {},
   "outputs": [
    {
     "data": {
      "text/html": [
       "<div>\n",
       "<style scoped>\n",
       "    .dataframe tbody tr th:only-of-type {\n",
       "        vertical-align: middle;\n",
       "    }\n",
       "\n",
       "    .dataframe tbody tr th {\n",
       "        vertical-align: top;\n",
       "    }\n",
       "\n",
       "    .dataframe thead th {\n",
       "        text-align: right;\n",
       "    }\n",
       "</style>\n",
       "<table border=\"1\" class=\"dataframe\">\n",
       "  <thead>\n",
       "    <tr style=\"text-align: right;\">\n",
       "      <th></th>\n",
       "      <th>verified_reviews</th>\n",
       "    </tr>\n",
       "  </thead>\n",
       "  <tbody>\n",
       "    <tr>\n",
       "      <th>0</th>\n",
       "      <td>Love my Echo!</td>\n",
       "    </tr>\n",
       "    <tr>\n",
       "      <th>1</th>\n",
       "      <td>Loved it!</td>\n",
       "    </tr>\n",
       "    <tr>\n",
       "      <th>2</th>\n",
       "      <td>Sometimes while playing a game, you can answer...</td>\n",
       "    </tr>\n",
       "    <tr>\n",
       "      <th>3</th>\n",
       "      <td>I have had a lot of fun with this thing. My 4 ...</td>\n",
       "    </tr>\n",
       "    <tr>\n",
       "      <th>4</th>\n",
       "      <td>Music</td>\n",
       "    </tr>\n",
       "  </tbody>\n",
       "</table>\n",
       "</div>"
      ],
      "text/plain": [
       "                                    verified_reviews\n",
       "0                                      Love my Echo!\n",
       "1                                          Loved it!\n",
       "2  Sometimes while playing a game, you can answer...\n",
       "3  I have had a lot of fun with this thing. My 4 ...\n",
       "4                                              Music"
      ]
     },
     "execution_count": 3,
     "metadata": {},
     "output_type": "execute_result"
    }
   ],
   "source": [
    "# drop unnecessary columns\n",
    "\n",
    "df = df.drop(['rating', 'date', 'variation', 'feedback'], axis=1)\n",
    "df.head()"
   ]
  },
  {
   "cell_type": "code",
   "execution_count": 4,
   "id": "9e6574cd",
   "metadata": {},
   "outputs": [],
   "source": [
    "# Drop rows with missing reviews\n",
    "df = df.dropna(subset=['verified_reviews'])"
   ]
  },
  {
   "cell_type": "code",
   "execution_count": 5,
   "id": "2865b787",
   "metadata": {},
   "outputs": [],
   "source": [
    "# Define a function for data cleaning and preprocessing \n",
    "def data_processing(text):\n",
    "    text = text.lower()\n",
    "    text = re.sub(r\"https\\S+|www\\S+https\\S+\", '',text, flags=re.MULTILINE) # remove URLs\n",
    "    text = re.sub(r'\\@w+|\\#','',text) # remove special characters like @ and #\n",
    "    text = re.sub(r'[^\\w\\s]','',text) # remove punctuation\n",
    "    tokens = word_tokenize(text) # tokenize the text into words\n",
    "    custom_stopwords = set(['https', 'http'])  # custom stopwords \n",
    "    filtered_tokens = [word for word in tokens if word not in stop_words and word not in custom_stopwords]\n",
    "    filtered_text = [w for w in filtered_tokens if not w in stop_words]\n",
    "    return \" \".join(filtered_text)"
   ]
  },
  {
   "cell_type": "code",
   "execution_count": 6,
   "id": "826f4447",
   "metadata": {},
   "outputs": [],
   "source": [
    "# Apply data processing to the reviews\n",
    "df['verified_reviews'] = df['verified_reviews'].apply(data_processing)"
   ]
  },
  {
   "cell_type": "code",
   "execution_count": 7,
   "id": "551bdd76",
   "metadata": {},
   "outputs": [
    {
     "name": "stdout",
     "output_type": "stream",
     "text": [
      "love echo \n",
      "\n",
      "loved \n",
      "\n",
      "sometimes playing game answer question correctly alexa says got wrong answers like able turn lights away home \n",
      "\n"
     ]
    }
   ],
   "source": [
    "# Display a few cleaned reviews for verification\n",
    "\n",
    "print(df['verified_reviews'].iloc[0],'\\n')\n",
    "print(df['verified_reviews'].iloc[1],'\\n')\n",
    "print(df['verified_reviews'].iloc[2],'\\n')"
   ]
  },
  {
   "cell_type": "code",
   "execution_count": 8,
   "id": "a81fa8ac",
   "metadata": {},
   "outputs": [
    {
     "data": {
      "text/html": [
       "<div>\n",
       "<style scoped>\n",
       "    .dataframe tbody tr th:only-of-type {\n",
       "        vertical-align: middle;\n",
       "    }\n",
       "\n",
       "    .dataframe tbody tr th {\n",
       "        vertical-align: top;\n",
       "    }\n",
       "\n",
       "    .dataframe thead th {\n",
       "        text-align: right;\n",
       "    }\n",
       "</style>\n",
       "<table border=\"1\" class=\"dataframe\">\n",
       "  <thead>\n",
       "    <tr style=\"text-align: right;\">\n",
       "      <th></th>\n",
       "      <th>verified_reviews</th>\n",
       "      <th>tokenize_text</th>\n",
       "    </tr>\n",
       "  </thead>\n",
       "  <tbody>\n",
       "    <tr>\n",
       "      <th>0</th>\n",
       "      <td>love echo</td>\n",
       "      <td>[love, echo]</td>\n",
       "    </tr>\n",
       "    <tr>\n",
       "      <th>1</th>\n",
       "      <td>loved</td>\n",
       "      <td>[loved]</td>\n",
       "    </tr>\n",
       "    <tr>\n",
       "      <th>2</th>\n",
       "      <td>sometimes playing game answer question correct...</td>\n",
       "      <td>[sometimes, playing, game, answer, question, c...</td>\n",
       "    </tr>\n",
       "    <tr>\n",
       "      <th>3</th>\n",
       "      <td>lot fun thing 4 yr old learns dinosaurs contro...</td>\n",
       "      <td>[lot, fun, thing, 4, yr, old, learns, dinosaur...</td>\n",
       "    </tr>\n",
       "    <tr>\n",
       "      <th>4</th>\n",
       "      <td>music</td>\n",
       "      <td>[music]</td>\n",
       "    </tr>\n",
       "  </tbody>\n",
       "</table>\n",
       "</div>"
      ],
      "text/plain": [
       "                                    verified_reviews  \\\n",
       "0                                          love echo   \n",
       "1                                              loved   \n",
       "2  sometimes playing game answer question correct...   \n",
       "3  lot fun thing 4 yr old learns dinosaurs contro...   \n",
       "4                                              music   \n",
       "\n",
       "                                       tokenize_text  \n",
       "0                                       [love, echo]  \n",
       "1                                            [loved]  \n",
       "2  [sometimes, playing, game, answer, question, c...  \n",
       "3  [lot, fun, thing, 4, yr, old, learns, dinosaur...  \n",
       "4                                            [music]  "
      ]
     },
     "execution_count": 8,
     "metadata": {},
     "output_type": "execute_result"
    }
   ],
   "source": [
    "# Tokenize the cleaned reviews\n",
    "df['tokenize_text'] = df['verified_reviews'].apply(word_tokenize)\n",
    "df.head()"
   ]
  },
  {
   "cell_type": "code",
   "execution_count": 9,
   "id": "aa95e805",
   "metadata": {},
   "outputs": [
    {
     "data": {
      "text/html": [
       "<div>\n",
       "<style scoped>\n",
       "    .dataframe tbody tr th:only-of-type {\n",
       "        vertical-align: middle;\n",
       "    }\n",
       "\n",
       "    .dataframe tbody tr th {\n",
       "        vertical-align: top;\n",
       "    }\n",
       "\n",
       "    .dataframe thead th {\n",
       "        text-align: right;\n",
       "    }\n",
       "</style>\n",
       "<table border=\"1\" class=\"dataframe\">\n",
       "  <thead>\n",
       "    <tr style=\"text-align: right;\">\n",
       "      <th></th>\n",
       "      <th>verified_reviews</th>\n",
       "      <th>tokenize_text</th>\n",
       "      <th>rmv_infrequent</th>\n",
       "    </tr>\n",
       "  </thead>\n",
       "  <tbody>\n",
       "    <tr>\n",
       "      <th>0</th>\n",
       "      <td>love echo</td>\n",
       "      <td>[love, echo]</td>\n",
       "      <td>love echo</td>\n",
       "    </tr>\n",
       "    <tr>\n",
       "      <th>1</th>\n",
       "      <td>loved</td>\n",
       "      <td>[loved]</td>\n",
       "      <td>loved</td>\n",
       "    </tr>\n",
       "    <tr>\n",
       "      <th>2</th>\n",
       "      <td>sometimes playing game answer question correct...</td>\n",
       "      <td>[sometimes, playing, game, answer, question, c...</td>\n",
       "      <td>sometimes playing game answer question correct...</td>\n",
       "    </tr>\n",
       "    <tr>\n",
       "      <th>3</th>\n",
       "      <td>lot fun thing 4 yr old learns dinosaurs contro...</td>\n",
       "      <td>[lot, fun, thing, 4, yr, old, learns, dinosaur...</td>\n",
       "      <td>lot fun thing old learns dinosaurs control lig...</td>\n",
       "    </tr>\n",
       "    <tr>\n",
       "      <th>4</th>\n",
       "      <td>music</td>\n",
       "      <td>[music]</td>\n",
       "      <td>music</td>\n",
       "    </tr>\n",
       "  </tbody>\n",
       "</table>\n",
       "</div>"
      ],
      "text/plain": [
       "                                    verified_reviews  \\\n",
       "0                                          love echo   \n",
       "1                                              loved   \n",
       "2  sometimes playing game answer question correct...   \n",
       "3  lot fun thing 4 yr old learns dinosaurs contro...   \n",
       "4                                              music   \n",
       "\n",
       "                                       tokenize_text  \\\n",
       "0                                       [love, echo]   \n",
       "1                                            [loved]   \n",
       "2  [sometimes, playing, game, answer, question, c...   \n",
       "3  [lot, fun, thing, 4, yr, old, learns, dinosaur...   \n",
       "4                                            [music]   \n",
       "\n",
       "                                      rmv_infrequent  \n",
       "0                                          love echo  \n",
       "1                                              loved  \n",
       "2  sometimes playing game answer question correct...  \n",
       "3  lot fun thing old learns dinosaurs control lig...  \n",
       "4                                              music  "
      ]
     },
     "execution_count": 9,
     "metadata": {},
     "output_type": "execute_result"
    }
   ],
   "source": [
    "# Remove infrequent words (words with length <= 2)\n",
    "df['rmv_infrequent'] = df['tokenize_text'].apply(lambda x: ' '.join([item for item in x if len(item)>2]))\n",
    "df.head()"
   ]
  },
  {
   "cell_type": "code",
   "execution_count": 10,
   "id": "7e8d26d5",
   "metadata": {},
   "outputs": [
    {
     "data": {
      "text/html": [
       "<div>\n",
       "<style scoped>\n",
       "    .dataframe tbody tr th:only-of-type {\n",
       "        vertical-align: middle;\n",
       "    }\n",
       "\n",
       "    .dataframe tbody tr th {\n",
       "        vertical-align: top;\n",
       "    }\n",
       "\n",
       "    .dataframe thead th {\n",
       "        text-align: right;\n",
       "    }\n",
       "</style>\n",
       "<table border=\"1\" class=\"dataframe\">\n",
       "  <thead>\n",
       "    <tr style=\"text-align: right;\">\n",
       "      <th></th>\n",
       "      <th>verified_reviews</th>\n",
       "      <th>tokenize_text</th>\n",
       "      <th>rmv_infrequent</th>\n",
       "      <th>normalize_text</th>\n",
       "    </tr>\n",
       "  </thead>\n",
       "  <tbody>\n",
       "    <tr>\n",
       "      <th>0</th>\n",
       "      <td>love echo</td>\n",
       "      <td>[love, echo]</td>\n",
       "      <td>love echo</td>\n",
       "      <td>love echo</td>\n",
       "    </tr>\n",
       "    <tr>\n",
       "      <th>1</th>\n",
       "      <td>loved</td>\n",
       "      <td>[loved]</td>\n",
       "      <td>loved</td>\n",
       "      <td>loved</td>\n",
       "    </tr>\n",
       "    <tr>\n",
       "      <th>2</th>\n",
       "      <td>sometimes playing game answer question correct...</td>\n",
       "      <td>[sometimes, playing, game, answer, question, c...</td>\n",
       "      <td>sometimes playing game answer question correct...</td>\n",
       "      <td>sometimes playing game answer question correct...</td>\n",
       "    </tr>\n",
       "    <tr>\n",
       "      <th>3</th>\n",
       "      <td>lot fun thing 4 yr old learns dinosaurs contro...</td>\n",
       "      <td>[lot, fun, thing, 4, yr, old, learns, dinosaur...</td>\n",
       "      <td>lot fun thing old learns dinosaurs control lig...</td>\n",
       "      <td>lot fun thing old learns dinosaurs control lig...</td>\n",
       "    </tr>\n",
       "    <tr>\n",
       "      <th>4</th>\n",
       "      <td>music</td>\n",
       "      <td>[music]</td>\n",
       "      <td>music</td>\n",
       "      <td>music</td>\n",
       "    </tr>\n",
       "  </tbody>\n",
       "</table>\n",
       "</div>"
      ],
      "text/plain": [
       "                                    verified_reviews  \\\n",
       "0                                          love echo   \n",
       "1                                              loved   \n",
       "2  sometimes playing game answer question correct...   \n",
       "3  lot fun thing 4 yr old learns dinosaurs contro...   \n",
       "4                                              music   \n",
       "\n",
       "                                       tokenize_text  \\\n",
       "0                                       [love, echo]   \n",
       "1                                            [loved]   \n",
       "2  [sometimes, playing, game, answer, question, c...   \n",
       "3  [lot, fun, thing, 4, yr, old, learns, dinosaur...   \n",
       "4                                            [music]   \n",
       "\n",
       "                                      rmv_infrequent  \\\n",
       "0                                          love echo   \n",
       "1                                              loved   \n",
       "2  sometimes playing game answer question correct...   \n",
       "3  lot fun thing old learns dinosaurs control lig...   \n",
       "4                                              music   \n",
       "\n",
       "                                      normalize_text  \n",
       "0                                          love echo  \n",
       "1                                              loved  \n",
       "2  sometimes playing game answer question correct...  \n",
       "3  lot fun thing old learns dinosaurs control lig...  \n",
       "4                                              music  "
      ]
     },
     "execution_count": 10,
     "metadata": {},
     "output_type": "execute_result"
    }
   ],
   "source": [
    "from nltk.stem import WordNetLemmatizer\n",
    "lemma = WordNetLemmatizer()\n",
    "\n",
    "# Lemmatize the tokens\n",
    "df['normalize_text'] = df['rmv_infrequent'].apply(lemma.lemmatize)\n",
    "df.head()"
   ]
  },
  {
   "cell_type": "code",
   "execution_count": 11,
   "id": "fabb4795",
   "metadata": {},
   "outputs": [],
   "source": [
    "# Calculate the polarity of the reviews\n",
    "\n",
    "from textblob import TextBlob\n",
    "\n",
    "def polarity(text):\n",
    "    return TextBlob(text).sentiment.polarity"
   ]
  },
  {
   "cell_type": "code",
   "execution_count": 12,
   "id": "45912cb1",
   "metadata": {},
   "outputs": [
    {
     "data": {
      "text/html": [
       "<div>\n",
       "<style scoped>\n",
       "    .dataframe tbody tr th:only-of-type {\n",
       "        vertical-align: middle;\n",
       "    }\n",
       "\n",
       "    .dataframe tbody tr th {\n",
       "        vertical-align: top;\n",
       "    }\n",
       "\n",
       "    .dataframe thead th {\n",
       "        text-align: right;\n",
       "    }\n",
       "</style>\n",
       "<table border=\"1\" class=\"dataframe\">\n",
       "  <thead>\n",
       "    <tr style=\"text-align: right;\">\n",
       "      <th></th>\n",
       "      <th>verified_reviews</th>\n",
       "      <th>tokenize_text</th>\n",
       "      <th>rmv_infrequent</th>\n",
       "      <th>normalize_text</th>\n",
       "      <th>polarity</th>\n",
       "    </tr>\n",
       "  </thead>\n",
       "  <tbody>\n",
       "    <tr>\n",
       "      <th>0</th>\n",
       "      <td>love echo</td>\n",
       "      <td>[love, echo]</td>\n",
       "      <td>love echo</td>\n",
       "      <td>love echo</td>\n",
       "      <td>0.500000</td>\n",
       "    </tr>\n",
       "    <tr>\n",
       "      <th>1</th>\n",
       "      <td>loved</td>\n",
       "      <td>[loved]</td>\n",
       "      <td>loved</td>\n",
       "      <td>loved</td>\n",
       "      <td>0.700000</td>\n",
       "    </tr>\n",
       "    <tr>\n",
       "      <th>2</th>\n",
       "      <td>sometimes playing game answer question correct...</td>\n",
       "      <td>[sometimes, playing, game, answer, question, c...</td>\n",
       "      <td>sometimes playing game answer question correct...</td>\n",
       "      <td>sometimes playing game answer question correct...</td>\n",
       "      <td>-0.133333</td>\n",
       "    </tr>\n",
       "    <tr>\n",
       "      <th>3</th>\n",
       "      <td>lot fun thing 4 yr old learns dinosaurs contro...</td>\n",
       "      <td>[lot, fun, thing, 4, yr, old, learns, dinosaur...</td>\n",
       "      <td>lot fun thing old learns dinosaurs control lig...</td>\n",
       "      <td>lot fun thing old learns dinosaurs control lig...</td>\n",
       "      <td>0.350000</td>\n",
       "    </tr>\n",
       "    <tr>\n",
       "      <th>4</th>\n",
       "      <td>music</td>\n",
       "      <td>[music]</td>\n",
       "      <td>music</td>\n",
       "      <td>music</td>\n",
       "      <td>0.000000</td>\n",
       "    </tr>\n",
       "  </tbody>\n",
       "</table>\n",
       "</div>"
      ],
      "text/plain": [
       "                                    verified_reviews  \\\n",
       "0                                          love echo   \n",
       "1                                              loved   \n",
       "2  sometimes playing game answer question correct...   \n",
       "3  lot fun thing 4 yr old learns dinosaurs contro...   \n",
       "4                                              music   \n",
       "\n",
       "                                       tokenize_text  \\\n",
       "0                                       [love, echo]   \n",
       "1                                            [loved]   \n",
       "2  [sometimes, playing, game, answer, question, c...   \n",
       "3  [lot, fun, thing, 4, yr, old, learns, dinosaur...   \n",
       "4                                            [music]   \n",
       "\n",
       "                                      rmv_infrequent  \\\n",
       "0                                          love echo   \n",
       "1                                              loved   \n",
       "2  sometimes playing game answer question correct...   \n",
       "3  lot fun thing old learns dinosaurs control lig...   \n",
       "4                                              music   \n",
       "\n",
       "                                      normalize_text  polarity  \n",
       "0                                          love echo  0.500000  \n",
       "1                                              loved  0.700000  \n",
       "2  sometimes playing game answer question correct... -0.133333  \n",
       "3  lot fun thing old learns dinosaurs control lig...  0.350000  \n",
       "4                                              music  0.000000  "
      ]
     },
     "execution_count": 12,
     "metadata": {},
     "output_type": "execute_result"
    }
   ],
   "source": [
    "df['polarity'] = df['normalize_text'].apply(polarity)\n",
    "df.head()"
   ]
  },
  {
   "cell_type": "code",
   "execution_count": null,
   "id": "f548ebff",
   "metadata": {},
   "outputs": [],
   "source": []
  },
  {
   "cell_type": "code",
   "execution_count": 13,
   "id": "0df721ce",
   "metadata": {},
   "outputs": [],
   "source": [
    "# Define a function to categorize the sentiment\n",
    "def sentiment(label):\n",
    "    if label < 0:\n",
    "        return 'Negative'\n",
    "    elif label == 0:\n",
    "        return 'Neutral'\n",
    "    elif label > 0:\n",
    "        return 'Positive'"
   ]
  },
  {
   "cell_type": "code",
   "execution_count": 14,
   "id": "b31b5a16",
   "metadata": {},
   "outputs": [],
   "source": [
    "# Apply sentiment categorization\n",
    "df['sentiment'] = df['polarity'].apply(sentiment)"
   ]
  },
  {
   "cell_type": "code",
   "execution_count": 15,
   "id": "2e651c20",
   "metadata": {},
   "outputs": [
    {
     "data": {
      "text/html": [
       "<div>\n",
       "<style scoped>\n",
       "    .dataframe tbody tr th:only-of-type {\n",
       "        vertical-align: middle;\n",
       "    }\n",
       "\n",
       "    .dataframe tbody tr th {\n",
       "        vertical-align: top;\n",
       "    }\n",
       "\n",
       "    .dataframe thead th {\n",
       "        text-align: right;\n",
       "    }\n",
       "</style>\n",
       "<table border=\"1\" class=\"dataframe\">\n",
       "  <thead>\n",
       "    <tr style=\"text-align: right;\">\n",
       "      <th></th>\n",
       "      <th>verified_reviews</th>\n",
       "      <th>tokenize_text</th>\n",
       "      <th>rmv_infrequent</th>\n",
       "      <th>normalize_text</th>\n",
       "      <th>polarity</th>\n",
       "      <th>sentiment</th>\n",
       "    </tr>\n",
       "  </thead>\n",
       "  <tbody>\n",
       "    <tr>\n",
       "      <th>0</th>\n",
       "      <td>love echo</td>\n",
       "      <td>[love, echo]</td>\n",
       "      <td>love echo</td>\n",
       "      <td>love echo</td>\n",
       "      <td>0.500000</td>\n",
       "      <td>Positive</td>\n",
       "    </tr>\n",
       "    <tr>\n",
       "      <th>1</th>\n",
       "      <td>loved</td>\n",
       "      <td>[loved]</td>\n",
       "      <td>loved</td>\n",
       "      <td>loved</td>\n",
       "      <td>0.700000</td>\n",
       "      <td>Positive</td>\n",
       "    </tr>\n",
       "    <tr>\n",
       "      <th>2</th>\n",
       "      <td>sometimes playing game answer question correct...</td>\n",
       "      <td>[sometimes, playing, game, answer, question, c...</td>\n",
       "      <td>sometimes playing game answer question correct...</td>\n",
       "      <td>sometimes playing game answer question correct...</td>\n",
       "      <td>-0.133333</td>\n",
       "      <td>Negative</td>\n",
       "    </tr>\n",
       "    <tr>\n",
       "      <th>3</th>\n",
       "      <td>lot fun thing 4 yr old learns dinosaurs contro...</td>\n",
       "      <td>[lot, fun, thing, 4, yr, old, learns, dinosaur...</td>\n",
       "      <td>lot fun thing old learns dinosaurs control lig...</td>\n",
       "      <td>lot fun thing old learns dinosaurs control lig...</td>\n",
       "      <td>0.350000</td>\n",
       "      <td>Positive</td>\n",
       "    </tr>\n",
       "    <tr>\n",
       "      <th>4</th>\n",
       "      <td>music</td>\n",
       "      <td>[music]</td>\n",
       "      <td>music</td>\n",
       "      <td>music</td>\n",
       "      <td>0.000000</td>\n",
       "      <td>Neutral</td>\n",
       "    </tr>\n",
       "  </tbody>\n",
       "</table>\n",
       "</div>"
      ],
      "text/plain": [
       "                                    verified_reviews  \\\n",
       "0                                          love echo   \n",
       "1                                              loved   \n",
       "2  sometimes playing game answer question correct...   \n",
       "3  lot fun thing 4 yr old learns dinosaurs contro...   \n",
       "4                                              music   \n",
       "\n",
       "                                       tokenize_text  \\\n",
       "0                                       [love, echo]   \n",
       "1                                            [loved]   \n",
       "2  [sometimes, playing, game, answer, question, c...   \n",
       "3  [lot, fun, thing, 4, yr, old, learns, dinosaur...   \n",
       "4                                            [music]   \n",
       "\n",
       "                                      rmv_infrequent  \\\n",
       "0                                          love echo   \n",
       "1                                              loved   \n",
       "2  sometimes playing game answer question correct...   \n",
       "3  lot fun thing old learns dinosaurs control lig...   \n",
       "4                                              music   \n",
       "\n",
       "                                      normalize_text  polarity sentiment  \n",
       "0                                          love echo  0.500000  Positive  \n",
       "1                                              loved  0.700000  Positive  \n",
       "2  sometimes playing game answer question correct... -0.133333  Negative  \n",
       "3  lot fun thing old learns dinosaurs control lig...  0.350000  Positive  \n",
       "4                                              music  0.000000   Neutral  "
      ]
     },
     "execution_count": 15,
     "metadata": {},
     "output_type": "execute_result"
    }
   ],
   "source": [
    "df.head()"
   ]
  },
  {
   "cell_type": "code",
   "execution_count": 16,
   "id": "c1a5b1b5",
   "metadata": {},
   "outputs": [
    {
     "data": {
      "text/plain": [
       "<Axes: xlabel='sentiment', ylabel='count'>"
      ]
     },
     "execution_count": 16,
     "metadata": {},
     "output_type": "execute_result"
    },
    {
     "data": {
      "image/png": "[encoded data removed]",
      "text/plain": [
       "<Figure size 640x480 with 1 Axes>"
      ]
     },
     "metadata": {},
     "output_type": "display_data"
    }
   ],
   "source": [
    "# Plot the distribution of sentiments\n",
    "sns.countplot(x=df['sentiment'])"
   ]
  },
  {
   "cell_type": "code",
   "execution_count": 17,
   "id": "ec7710a0",
   "metadata": {},
   "outputs": [
    {
     "data": {
      "image/png": "[encoded data removed]",
      "text/plain": [
       "<Figure size 640x480 with 1 Axes>"
      ]
     },
     "metadata": {},
     "output_type": "display_data"
    }
   ],
   "source": [
    "# Plot the sentiment percentages\n",
    "\n",
    "explode = (0.2, 0.01,0)\n",
    "senti = df['sentiment'].value_counts()\n",
    "\n",
    "senti.plot(kind='pie', autopct='%1.1f%%', shadow=True,\n",
    "         explode=explode, label='')\n",
    "plt.title('Sentiment Percentage')\n",
    "plt.show()"
   ]
  },
  {
   "cell_type": "code",
   "execution_count": 18,
   "id": "93f17a27",
   "metadata": {},
   "outputs": [],
   "source": [
    "# Create a frequency distribution of words\n",
    "\n",
    "all_words = ' '.join([word for word in df['rmv_infrequent']])\n",
    "\n",
    "from nltk.probability import FreqDist\n",
    "\n",
    "tokens = word_tokenize(all_words)\n",
    "frequency_distribution = FreqDist(tokens)"
   ]
  },
  {
   "cell_type": "code",
   "execution_count": null,
   "id": "b790f943",
   "metadata": {},
   "outputs": [],
   "source": []
  },
  {
   "cell_type": "code",
   "execution_count": 19,
   "id": "589dd473",
   "metadata": {},
   "outputs": [
    {
     "data": {
      "image/png": "[encoded data removed]",
      "text/plain": [
       "<Figure size 640x480 with 1 Axes>"
      ]
     },
     "metadata": {},
     "output_type": "display_data"
    }
   ],
   "source": [
    "# Get the top 10 most common words\n",
    "top_10 = frequency_distribution.most_common(10)\n",
    "\n",
    "words = []\n",
    "counts = []\n",
    "for w, c in top_10:\n",
    "    words.append(w)\n",
    "    counts.append(c)\n",
    "    \n",
    "    \n",
    "sns.barplot(x=counts, y=words)\n",
    "plt.ylabel('Words')\n",
    "plt.title('Top 10 Most Common Words')\n",
    "plt.show()"
   ]
  },
  {
   "cell_type": "code",
   "execution_count": null,
   "id": "7a4a0f8a",
   "metadata": {},
   "outputs": [],
   "source": []
  }
 ],
 "metadata": {
  "kernelspec": {
   "display_name": "Python 3 (ipykernel)",
   "language": "python",
   "name": "python3"
  },
  "language_info": {
   "codemirror_mode": {
    "name": "ipython",
    "version": 3
   },
   "file_extension": ".py",
   "mimetype": "text/x-python",
   "name": "python",
   "nbconvert_exporter": "python",
   "pygments_lexer": "ipython3",
   "version": "3.10.9"
  }
 },
 "nbformat": 4,
 "nbformat_minor": 5
}
